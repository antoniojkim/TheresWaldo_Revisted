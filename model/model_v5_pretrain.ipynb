{
 "cells": [
  {
   "cell_type": "markdown",
   "metadata": {},
   "source": [
    "# Model Experimentation 5: Pretrain backbone\n",
    "\n",
    "In this next iteration, we will attempt to pretrain the backbone on a classification task to prepare it for object detection later on.\n",
    "\n",
    "I also propose a new lightweight architecture that aggressively reduces the kernel size which consists of the following layers:\n",
    "\n",
    "| Type          | Filters | Size/Stride |\n",
    "|---------------|---------|-------------|\n",
    "| Convolutional | 64      | 3x3/1       |\n",
    "| MaxPool       |         | 2x2/2       |\n",
    "| Convolutional | 128     | 3x3/1       |\n",
    "| MaxPool       |         | 2x2/2       |\n",
    "| Convolutional | 256     | 3x3/2       |\n",
    "| Convolutional | 128     | 1x1/1       |\n",
    "| Convolutional | 256     | 3x3/2       |\n",
    "| MaxPool       |         | 2x2/2       |\n",
    "| Convolutional | 512     | 3x3/3       |\n",
    "| Convolutional | 256     | 1x1/1       |\n",
    "| Convolutional | 512     | 3x3/3       |\n",
    "|---------------|---------|-------------|\n",
    "| Convolutional | 500     | 1x1/1       |\n",
    "| AvgPool       |         | Global      |\n",
    "\n",
    "The output has shape: `[1, 500]`"
   ]
  },
  {
   "cell_type": "code",
   "execution_count": 1,
   "metadata": {},
   "outputs": [
    {
     "data": {
      "text/html": [
       "<button onclick=\"jQuery('.input_area').toggle();jQuery('.prompt').toggle();\">\n",
       "            Toggle code\n",
       "        </button>"
      ]
     },
     "metadata": {},
     "output_type": "display_data"
    }
   ],
   "source": [
    "import IPython.core.display as di\n",
    "from IPython.display import Markdown as md\n",
    "\n",
    "def toggle_code():\n",
    "    di.display_html(\n",
    "        \"\"\"<button onclick=\"jQuery('.input_area').toggle();jQuery('.prompt').toggle();\">\n",
    "            Toggle code\n",
    "        </button>\"\"\",\n",
    "        raw=True,\n",
    "    )\n",
    "    \n",
    "def md_cat(file_path):\n",
    "    with open(file_path) as file:\n",
    "        return md(f\"```python\\n{file.read()}\\n```\")\n",
    "\n",
    "toggle_code()"
   ]
  },
  {
   "cell_type": "code",
   "execution_count": 2,
   "metadata": {},
   "outputs": [],
   "source": [
    "import json\n",
    "import os\n",
    "import sys\n",
    "import logging\n",
    "import re\n",
    "\n",
    "import matplotlib.pyplot as plt\n",
    "import numpy as np\n",
    "import pandas as pd\n",
    "import torch\n",
    "import torchvision as torchv\n",
    "from cached_property import cached_property\n",
    "from matplotlib import patches\n",
    "from PIL import Image\n",
    "from tqdm.notebook import tqdm, trange"
   ]
  },
  {
   "cell_type": "code",
   "execution_count": 3,
   "metadata": {},
   "outputs": [],
   "source": [
    "data_path = \"../data\"\n",
    "sys.path.append(data_path)"
   ]
  },
  {
   "cell_type": "code",
   "execution_count": 4,
   "metadata": {},
   "outputs": [],
   "source": [
    "from Dataset import Dataset, TestDataset, originals, boxes\n",
    "from LossAccumulator import LossAccumulator\n",
    "from Parameters import Parameters\n",
    "from PolyLearningRateDecay import PolyLearningRateDecay"
   ]
  },
  {
   "cell_type": "markdown",
   "metadata": {},
   "source": [
    "## Parameters"
   ]
  },
  {
   "cell_type": "code",
   "execution_count": 5,
   "metadata": {},
   "outputs": [],
   "source": [
    "params = Parameters(\"params.yml\")"
   ]
  },
  {
   "cell_type": "code",
   "execution_count": 6,
   "metadata": {},
   "outputs": [],
   "source": [
    "assert params.use_gpu"
   ]
  },
  {
   "cell_type": "code",
   "execution_count": 7,
   "metadata": {},
   "outputs": [],
   "source": [
    "log = params.get_logger('Model_v5_pretrain')"
   ]
  },
  {
   "cell_type": "code",
   "execution_count": 8,
   "metadata": {},
   "outputs": [],
   "source": [
    "if not os.path.isdir(params.save_model_path):\n",
    "    os.mkdir(params.save_model_path)"
   ]
  },
  {
   "cell_type": "markdown",
   "metadata": {},
   "source": [
    "## Load Data\n",
    "\n",
    "See the [data augmentation notebook](https://github.com/antoniojkim/WheresWaldo-YoloV3/blob/master/data/data.ipynb) for more details on how the data was curated and augmented."
   ]
  },
  {
   "cell_type": "code",
   "execution_count": 9,
   "metadata": {},
   "outputs": [],
   "source": [
    "def logistic(x):\n",
    "    return 1 / (1 + np.exp(-x))\n",
    "\n",
    "def logistic_inverse(y):\n",
    "    return np.log(y/(1-y))"
   ]
  },
  {
   "cell_type": "code",
   "execution_count": 10,
   "metadata": {},
   "outputs": [],
   "source": [
    "class DatasetV5_pretrain(Dataset):\n",
    "    \n",
    "    classes = {name: i for i, name in enumerate(boxes)}\n",
    "    \n",
    "    def get_label(self, index, image):\n",
    "        has_waldo = int(\"box\" in self.data[index])\n",
    "        waldo_map = self.classes[self.data[index][\"name\"]]\n",
    "        return has_waldo, waldo_map\n",
    "    \n",
    "np.random.seed(20200507)\n",
    "dataset = DatasetV5_pretrain(ntimes=100)\n",
    "train_dataloader = torch.utils.data.DataLoader(\n",
    "    dataset,\n",
    "    batch_size  = params.batch_size,\n",
    "    num_workers = params.num_workers,\n",
    "    shuffle     = True,\n",
    "    drop_last   = True\n",
    ")"
   ]
  },
  {
   "cell_type": "code",
   "execution_count": 12,
   "metadata": {},
   "outputs": [],
   "source": [
    "class TestDataset_pretrain(TestDataset):\n",
    "    def __init__(self):\n",
    "        super().__init__()\n",
    "        self.data = [(originals[key], key) for key in originals.keys()]\n",
    "        \n",
    "    def get_label(self, index, image):\n",
    "        has_waldo = 1\n",
    "        waldo_map = DatasetV5_pretrain.classes[self.data[index][1]]\n",
    "        return has_waldo, waldo_map\n",
    "\n",
    "\n",
    "test_dataloader = torch.utils.data.DataLoader(\n",
    "    TestDataset_pretrain(),\n",
    "    batch_size  = params.batch_size,\n",
    "    num_workers = params.num_workers,\n",
    "    shuffle     = False,\n",
    "    drop_last   = True\n",
    ")"
   ]
  },
  {
   "cell_type": "markdown",
   "metadata": {},
   "source": [
    "## Model Definition"
   ]
  },
  {
   "cell_type": "code",
   "execution_count": 14,
   "metadata": {},
   "outputs": [],
   "source": [
    "device = torch.device(\"cuda:\"+params.cuda if params.use_gpu else \"cpu\")\n",
    "\n",
    "def to_device(tensor):\n",
    "    if params.use_gpu:\n",
    "#         torch.nn.DataParallel(model).cuda()\n",
    "#         tensor.cuda()\n",
    "        return tensor.to(device)\n",
    "    else:\n",
    "        return tensor"
   ]
  },
  {
   "cell_type": "code",
   "execution_count": 15,
   "metadata": {},
   "outputs": [],
   "source": [
    "# resnet = torchv.models.resnet50(pretrained=True)\n",
    "# resnet = to_device(resnet)\n",
    "\n",
    "# for param in resnet.parameters():\n",
    "#     param.requires_grad = False"
   ]
  },
  {
   "cell_type": "code",
   "execution_count": 16,
   "metadata": {},
   "outputs": [],
   "source": [
    "class WaldoNet(torch.nn.Module):\n",
    "    \n",
    "    @staticmethod\n",
    "    def Conv2dBatch(in_channels, out_channels, kernel_size=3, stride=1, padding=0, bias=True, **kwargs):\n",
    "        return torch.nn.Sequential(\n",
    "            torch.nn.Conv2d(in_channels  = in_channels,\n",
    "                            out_channels = out_channels,\n",
    "                            kernel_size  = kernel_size,\n",
    "                            stride       = stride,\n",
    "                            padding      = padding,\n",
    "                            bias         = bias),\n",
    "            torch.nn.BatchNorm2d(out_channels),\n",
    "            torch.nn.ReLU(inplace=True)\n",
    "        )\n",
    "    \n",
    "    def __init__(self, load_path=None):\n",
    "        super().__init__()\n",
    "        \n",
    "        self.block1 = torch.nn.Sequential(\n",
    "            self.Conv2dBatch(3, 64, kernel_size=3, stride=1),\n",
    "            torch.nn.MaxPool2d(kernel_size=2, stride=2)\n",
    "        )\n",
    "        self.block2 = torch.nn.Sequential(\n",
    "            self.Conv2dBatch(64, 128, kernel_size=3, stride=1),\n",
    "            torch.nn.MaxPool2d(kernel_size=2, stride=2)\n",
    "        )\n",
    "        self.block3 = torch.nn.Sequential(\n",
    "            self.Conv2dBatch(128, 256, kernel_size=3, stride=2),\n",
    "            self.Conv2dBatch(256, 128, kernel_size=1),\n",
    "            self.Conv2dBatch(128, 256, kernel_size=3, stride=2),\n",
    "            torch.nn.MaxPool2d(kernel_size=2, stride=2)\n",
    "        )\n",
    "        self.block4 = torch.nn.Sequential(\n",
    "            self.Conv2dBatch(256, 512, kernel_size=3, stride=3),\n",
    "            self.Conv2dBatch(512, 256, kernel_size=1),\n",
    "            self.Conv2dBatch(256, 512, kernel_size=3, stride=3),\n",
    "        )\n",
    "        self.block5 = torch.nn.Sequential(\n",
    "            self.Conv2dBatch(512, 500, kernel_size=1),\n",
    "            torch.nn.AdaptiveAvgPool2d(output_size=(1, 1)),\n",
    "        )\n",
    "        \n",
    "        self.has_waldo_block = torch.nn.Sequential(\n",
    "            torch.nn.Linear(500, 2, bias=False),\n",
    "        )\n",
    "        self.waldo_map_probs_block = torch.nn.Sequential(\n",
    "            torch.nn.Linear(500, len(DatasetV5_pretrain.classes), bias=False),\n",
    "        )\n",
    "        \n",
    "        if load_path is not None:\n",
    "            self.load(load_path)\n",
    "        else:\n",
    "            self.reset_parameters()\n",
    "        \n",
    "    def forward(self, x):\n",
    "        x = self.block1(x)\n",
    "        x = self.block2(x)\n",
    "        x = self.block3(x)\n",
    "        x = self.block4(x)\n",
    "        x = self.block5(x)\n",
    "        \n",
    "        x = torch.flatten(x, 1)\n",
    "        \n",
    "        has_waldo_probs = self.has_waldo_block(x)\n",
    "        waldo_map_probs = self.waldo_map_probs_block(x)       \n",
    "        return has_waldo_probs, waldo_map_probs\n",
    "    \n",
    "    def __call__(self, x):\n",
    "        return self.forward(x)\n",
    "    \n",
    "    def predict_probs(self, x):\n",
    "        has_waldo_probs, waldo_map_probs = self.forward(x)\n",
    "        has_waldo_probs = torch.nn.functional.softmax(has_waldo_probs, dim=1)\n",
    "        waldo_map_probs = torch.nn.functional.softmax(waldo_map_probs, dim=1)\n",
    "        return waldo_map_probs\n",
    "    \n",
    "    def num_params(self):\n",
    "        return sum([p.numel() for p in self.parameters() if p.requires_grad])\n",
    "    \n",
    "    def reset_parameters(self):\n",
    "        init_funcs = {\n",
    "            1: lambda x: torch.nn.init.normal_(x, mean=0., std=1.), # biases\n",
    "            2: lambda x: torch.nn.init.xavier_normal_(x, gain=1.), # weights\n",
    "            3: lambda x: torch.nn.init.xavier_uniform_(x, gain=1.), # conv1D filters\n",
    "            4: lambda x: torch.nn.init.xavier_uniform_(x, gain=1.), # conv2D filters\n",
    "            \"default\": lambda x: torch.nn.init.constant(x, 1.),\n",
    "        }\n",
    "        for p in self.parameters():\n",
    "            init_func = init_funcs.get(len(p.shape), init_funcs[\"default\"])\n",
    "            init_func(p)\n",
    "            \n",
    "    def load(self, load_path, strict=False):\n",
    "        self.load_state_dict(torch.load(load_path), strict=strict)\n",
    "            \n",
    "    def save(self, save_path):\n",
    "        torch.save(self.state_dict(), save_path)"
   ]
  },
  {
   "cell_type": "code",
   "execution_count": 17,
   "metadata": {},
   "outputs": [],
   "source": [
    "model = WaldoNet()\n",
    "model = to_device(model)"
   ]
  },
  {
   "cell_type": "code",
   "execution_count": 18,
   "metadata": {},
   "outputs": [],
   "source": [
    "# load pretrained model if exists\n",
    "if params.pretrained_model_path is not None and os.path.isfile(params.pretrained_model_path):\n",
    "    print('loading model from %s ...' % params.pretrained_model_path)\n",
    "    model.load(params.pretrained_model_path)"
   ]
  },
  {
   "cell_type": "markdown",
   "metadata": {},
   "source": [
    "## Validation"
   ]
  },
  {
   "cell_type": "code",
   "execution_count": 19,
   "metadata": {},
   "outputs": [],
   "source": [
    "def validation(model, test_dataloader):\n",
    "    with torch.no_grad():\n",
    "        cumulative_has_waldo_error = 0\n",
    "        cumulative_waldo_map_error = 0\n",
    "        for i, (images, (has_waldo, waldo_map)) in enumerate(test_dataloader):\n",
    "            images = to_device(images)\n",
    "            has_waldo_probs, waldo_map_probs = model.forward(images)\n",
    "            has_waldo_probs = has_waldo_probs.cpu().detach().numpy()\n",
    "            waldo_map_probs = waldo_map_probs.cpu().detach().numpy()\n",
    "            \n",
    "            if has_waldo_probs.argmax() != has_waldo:\n",
    "                cumulative_has_waldo_error += 1\n",
    "            if waldo_map_probs.argmax() != waldo_map:\n",
    "                cumulative_waldo_map_error += 1\n",
    "                \n",
    "        has_waldo_precision = 1 - cumulative_has_waldo_error / len(test_dataloader)\n",
    "        waldo_map_precision = 1 - cumulative_waldo_map_error / len(test_dataloader)\n",
    "            \n",
    "            \n",
    "        return has_waldo_precision, waldo_map_precision"
   ]
  },
  {
   "cell_type": "markdown",
   "metadata": {},
   "source": [
    "# Model Training"
   ]
  },
  {
   "cell_type": "code",
   "execution_count": 20,
   "metadata": {},
   "outputs": [],
   "source": [
    "optimizer = torch.optim.SGD(model.parameters(), lr=0.001, momentum=0.9, weight_decay=1e-4)\n",
    "optimizer.zero_grad()\n",
    "\n",
    "criterion = torch.nn.CrossEntropyLoss()"
   ]
  },
  {
   "cell_type": "code",
   "execution_count": null,
   "metadata": {},
   "outputs": [],
   "source": [
    "best_mean_loss = np.inf\n",
    "best_has_waldo_precision = -np.inf\n",
    "best_waldo_map_precision = -np.inf\n",
    "\n",
    "with PolyLearningRateDecay(\n",
    "    optimizer,\n",
    "    power=4,\n",
    "    max_decay_steps=20,\n",
    "    final_learning_rate=params.learning_rate\n",
    ") as scheduler:\n",
    "    \n",
    "    for epoch in trange(params.epoch_start, params.num_epochs + 1, leave=False):\n",
    "        \n",
    "        with tqdm(total=len(train_dataloader), position=0, leave=False) as progress, \\\n",
    "            LossAccumulator(optimizer, 1) as lossAccumulator:\n",
    "\n",
    "            progress.set_description('epoch %d, lr %f' % (epoch, scheduler.learning_rate))\n",
    "\n",
    "            cumulative_loss = 0\n",
    "            for i, (images, (has_waldo, waldo_map)) in enumerate(train_dataloader):\n",
    "\n",
    "                images = to_device(images)\n",
    "                has_waldo = to_device(has_waldo)\n",
    "                waldo_map = to_device(waldo_map)\n",
    "\n",
    "                has_waldo_probs, waldo_map_probs = model.forward(images)\n",
    "                loss = (\n",
    "                    0.1 * criterion(has_waldo_probs.double(), has_waldo.long()) +\n",
    "                    0.9 * criterion(waldo_map_probs.double(), waldo_map.long())\n",
    "                )\n",
    "#                 loss = criterion(waldo_map_probs.double(), waldo_map.long())\n",
    "\n",
    "                cumulative_loss += loss.item()\n",
    "                info = f\"Epoch {epoch}, lr {scheduler.learning_rate}, i {i}, loss {loss.item()}\"\n",
    "                if np.isnan(loss.item()):\n",
    "                    log.warning(info)\n",
    "                    break\n",
    "                else:\n",
    "                    log.info(info)\n",
    "\n",
    "                loss.backward()\n",
    "\n",
    "                progress.set_postfix(loss='%.6f' % loss.item())\n",
    "                progress.update()\n",
    "\n",
    "                next(lossAccumulator)\n",
    "\n",
    "            if epoch % params.checkpoint_step == 0:\n",
    "                model.save(os.path.join(params.save_model_path, 'latest_darknet19.pt'))\n",
    "\n",
    "            mean_loss = cumulative_loss / len(train_dataloader)\n",
    "            log.info(f\"Epoch {epoch}, mean loss {mean_loss}\")\n",
    "\n",
    "            if mean_loss < best_mean_loss:\n",
    "                best_mean_loss = mean_loss\n",
    "                model.save(os.path.join(params.save_model_path, 'min_loss_darknet19.pt'))\n",
    "\n",
    "            if epoch % params.validation_step == 0:\n",
    "                has_waldo_precision, waldo_map_precision = validation(model, test_dataloader)\n",
    "                log.info(f\"Epoch {epoch}, has_waldo_precision {has_waldo_precision}\")\n",
    "                log.info(f\"Epoch {epoch}, waldo_map_precision {waldo_map_precision}\")\n",
    "#                 if waldo_map_precision > best_waldo_map_precision:\n",
    "                if has_waldo_precision > best_has_waldo_precision and waldo_map_precision > best_waldo_map_precision:\n",
    "                    best_has_waldo_precision = has_waldo_precision\n",
    "                    best_waldo_map_precision = waldo_map_precision\n",
    "                    model.save(os.path.join(params.save_model_path, 'best_darknet19.pt'))\n",
    "                    \n",
    "        next(scheduler)"
   ]
  },
  {
   "cell_type": "code",
   "execution_count": 22,
   "metadata": {},
   "outputs": [],
   "source": [
    "torch.cuda.empty_cache()"
   ]
  },
  {
   "cell_type": "code",
   "execution_count": 23,
   "metadata": {},
   "outputs": [],
   "source": [
    "model.save(os.path.join(params.save_model_path, 'latest_darknet19.pt'))"
   ]
  },
  {
   "cell_type": "markdown",
   "metadata": {},
   "source": [
    "## Validation"
   ]
  },
  {
   "cell_type": "code",
   "execution_count": 31,
   "metadata": {},
   "outputs": [
    {
     "name": "stdout",
     "output_type": "stream",
     "text": [
      "has_waldo_precision: 1.0\n",
      "waldo_map_precision: 0.8888888888888888\n"
     ]
    }
   ],
   "source": [
    "has_waldo_precision, waldo_map_precision = validation(model, test_dataloader)\n",
    "print(\"has_waldo_precision:\", has_waldo_precision)\n",
    "print(\"waldo_map_precision:\", waldo_map_precision)"
   ]
  },
  {
   "cell_type": "markdown",
   "metadata": {},
   "source": [
    "## Logs\n",
    "\n",
    "We'll take a look at the logs to see if the model loss did indeed go down"
   ]
  },
  {
   "cell_type": "code",
   "execution_count": 24,
   "metadata": {},
   "outputs": [],
   "source": [
    "with open(params.log_file) as file:\n",
    "    model_logs = [line for line in file]"
   ]
  },
  {
   "cell_type": "code",
   "execution_count": 25,
   "metadata": {},
   "outputs": [],
   "source": [
    "mean_loss_re = re.compile(\"Epoch (?P<epoch>[0-9]+), mean loss (?P<loss>[0-9]+.[0-9]+)\")\n",
    "has_waldo_precision_re = re.compile(\"Epoch (?P<epoch>[0-9]+), has_waldo_precision (?P<has_waldo_precision>[0-9]+.[0-9]+)\")\n",
    "waldo_map_precision_re = re.compile(\"Epoch (?P<epoch>[0-9]+), waldo_map_precision (?P<waldo_map_precision>[0-9]+.[0-9]+)\")"
   ]
  },
  {
   "cell_type": "code",
   "execution_count": 26,
   "metadata": {},
   "outputs": [],
   "source": [
    "mean_losses = []\n",
    "has_waldo_precisions = []\n",
    "waldo_map_precisions = []\n",
    "for line in model_logs:\n",
    "    m = mean_loss_re.search(line)\n",
    "    if m:\n",
    "        mean_losses.append((int(m.group(\"epoch\")), float(m.group(\"loss\"))))\n",
    "        \n",
    "    m = has_waldo_precision_re.search(line)\n",
    "    if m:\n",
    "        has_waldo_precisions.append((int(m.group(\"epoch\")), float(m.group(\"has_waldo_precision\"))))\n",
    "        \n",
    "    m = waldo_map_precision_re.search(line)\n",
    "    if m:\n",
    "        waldo_map_precisions.append((int(m.group(\"epoch\")), float(m.group(\"waldo_map_precision\"))))"
   ]
  },
  {
   "cell_type": "code",
   "execution_count": 27,
   "metadata": {},
   "outputs": [
    {
     "data": {
      "image/png": "[encoded data removed]",
      "text/plain": [
       "<Figure size 432x288 with 1 Axes>"
      ]
     },
     "metadata": {
      "needs_background": "light"
     },
     "output_type": "display_data"
    }
   ],
   "source": [
    "pd.DataFrame(mean_losses, columns=[\"Epoch\", \"Mean Loss\"]).set_index(\"Epoch\").plot()\n",
    "plt.show()"
   ]
  },
  {
   "cell_type": "markdown",
   "metadata": {},
   "source": [
    "As can be seen the mean loss has converged, but it is very high."
   ]
  },
  {
   "cell_type": "code",
   "execution_count": 30,
   "metadata": {},
   "outputs": [
    {
     "data": {
      "image/png": "[encoded data removed]",
      "text/plain": [
       "<Figure size 432x288 with 1 Axes>"
      ]
     },
     "metadata": {
      "needs_background": "light"
     },
     "output_type": "display_data"
    }
   ],
   "source": [
    "pd.DataFrame(has_waldo_precisions, columns=[\"Epoch\", \"has_waldo_precision\"]).set_index(\"Epoch\").plot()\n",
    "plt.show()"
   ]
  },
  {
   "cell_type": "code",
   "execution_count": 28,
   "metadata": {},
   "outputs": [
    {
     "data": {
      "image/png": "[encoded data removed]",
      "text/plain": [
       "<Figure size 432x288 with 1 Axes>"
      ]
     },
     "metadata": {
      "needs_background": "light"
     },
     "output_type": "display_data"
    }
   ],
   "source": [
    "pd.DataFrame(waldo_map_precisions, columns=[\"Epoch\", \"waldo_map_precision\"]).set_index(\"Epoch\").plot()\n",
    "plt.show()"
   ]
  },
  {
   "cell_type": "markdown",
   "metadata": {},
   "source": [
    "Evidently, it performs fairly well on the task of predicting if waldo is on the map. In addition, it is able to guess with fairly good precision, the type of waldo map that it is extracting features for."
   ]
  }
 ],
 "metadata": {
  "kernelspec": {
   "display_name": "Python 3",
   "language": "python",
   "name": "python3"
  },
  "language_info": {
   "codemirror_mode": {
    "name": "ipython",
    "version": 3
   },
   "file_extension": ".py",
   "mimetype": "text/x-python",
   "name": "python",
   "nbconvert_exporter": "python",
   "pygments_lexer": "ipython3",
   "version": "3.7.1"
  }
 },
 "nbformat": 4,
 "nbformat_minor": 4
}
