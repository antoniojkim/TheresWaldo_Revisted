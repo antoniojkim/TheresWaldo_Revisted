{
 "cells": [
  {
   "cell_type": "markdown",
   "metadata": {},
   "source": [
    "# Model Experimentation 5: WaldoNet/Custom Head\n",
    "\n",
    "In this next iteration, we use the aforementioned custom Waldo head along with the new WaldoNet architecture (pretrained)."
   ]
  },
  {
   "cell_type": "code",
   "execution_count": 1,
   "metadata": {},
   "outputs": [
    {
     "data": {
      "text/html": [
       "<button onclick=\"jQuery('.input_area').toggle();jQuery('.prompt').toggle();\">\n",
       "            Toggle code\n",
       "        </button>"
      ]
     },
     "metadata": {},
     "output_type": "display_data"
    }
   ],
   "source": [
    "import IPython.core.display as di\n",
    "from IPython.display import Markdown as md\n",
    "\n",
    "def toggle_code():\n",
    "    di.display_html(\n",
    "        \"\"\"<button onclick=\"jQuery('.input_area').toggle();jQuery('.prompt').toggle();\">\n",
    "            Toggle code\n",
    "        </button>\"\"\",\n",
    "        raw=True,\n",
    "    )\n",
    "    \n",
    "def md_cat(file_path):\n",
    "    with open(file_path) as file:\n",
    "        return md(f\"```python\\n{file.read()}\\n```\")\n",
    "\n",
    "toggle_code()"
   ]
  },
  {
   "cell_type": "code",
   "execution_count": 2,
   "metadata": {},
   "outputs": [],
   "source": [
    "import json\n",
    "import os\n",
    "import sys\n",
    "import logging\n",
    "import re\n",
    "\n",
    "import matplotlib.pyplot as plt\n",
    "import numpy as np\n",
    "import pandas as pd\n",
    "import torch\n",
    "import torchvision as torchv\n",
    "from cached_property import cached_property\n",
    "from matplotlib import patches\n",
    "from PIL import Image\n",
    "from tqdm.notebook import tqdm, trange"
   ]
  },
  {
   "cell_type": "code",
   "execution_count": 3,
   "metadata": {},
   "outputs": [],
   "source": [
    "data_path = \"../data\"\n",
    "sys.path.append(data_path)"
   ]
  },
  {
   "cell_type": "code",
   "execution_count": 4,
   "metadata": {},
   "outputs": [],
   "source": [
    "from Dataset import Dataset, TestDataset, originals, boxes\n",
    "from LossAccumulator import LossAccumulator\n",
    "from Parameters import Parameters\n",
    "from PolyLearningRateDecay import PolyLearningRateDecay\n",
    "from WaldoNet import WaldoNet"
   ]
  },
  {
   "cell_type": "markdown",
   "metadata": {},
   "source": [
    "## Parameters"
   ]
  },
  {
   "cell_type": "code",
   "execution_count": 5,
   "metadata": {},
   "outputs": [],
   "source": [
    "params = Parameters(\"params.yml\")"
   ]
  },
  {
   "cell_type": "code",
   "execution_count": 6,
   "metadata": {},
   "outputs": [],
   "source": [
    "assert params.use_gpu"
   ]
  },
  {
   "cell_type": "code",
   "execution_count": 7,
   "metadata": {},
   "outputs": [],
   "source": [
    "log = params.get_logger('Model_v5_pretrain')"
   ]
  },
  {
   "cell_type": "code",
   "execution_count": 8,
   "metadata": {},
   "outputs": [],
   "source": [
    "if not os.path.isdir(params.save_model_path):\n",
    "    os.mkdir(params.save_model_path)"
   ]
  },
  {
   "cell_type": "markdown",
   "metadata": {},
   "source": [
    "## Load Data\n",
    "\n",
    "See the [data augmentation notebook](https://github.com/antoniojkim/WheresWaldo-YoloV3/blob/master/data/data.ipynb) for more details on how the data was curated and augmented."
   ]
  },
  {
   "cell_type": "code",
   "execution_count": 9,
   "metadata": {},
   "outputs": [],
   "source": [
    "def logistic(x):\n",
    "    return 1 / (1 + np.exp(-x))\n",
    "\n",
    "def logistic_inverse(y):\n",
    "    return np.log(y/(1-y))"
   ]
  },
  {
   "cell_type": "code",
   "execution_count": 10,
   "metadata": {},
   "outputs": [],
   "source": [
    "S = 16\n",
    "\n",
    "class DatasetV5(Dataset):  # Same as DatasetV4\n",
    "    \n",
    "    @cached_property\n",
    "    def bounding_box_prior_x(self):\n",
    "        return np.mean([d['box']['x'] for d in self.data if 'box' in d])\n",
    "    \n",
    "    @cached_property\n",
    "    def bounding_box_prior_y(self):\n",
    "        return np.mean([d['box']['y'] for d in self.data if 'box' in d])\n",
    "    \n",
    "    @cached_property\n",
    "    def bounding_box_prior_width(self):\n",
    "        return np.mean([d['box']['w'] for d in self.data if 'box' in d])\n",
    "    \n",
    "    @cached_property\n",
    "    def bounding_box_prior_height(self):\n",
    "        return np.mean([d['box']['h'] for d in self.data if 'box' in d])\n",
    "    \n",
    "    def get_label(self, index, image):\n",
    "        if \"box\" in self.data[index]:\n",
    "            box = self.data[index][\"box\"]            \n",
    "            b_x, b_y, b_w, b_h = box[\"x\"], box[\"y\"], box[\"w\"], box[\"h\"]\n",
    "            box_prob = 1\n",
    "        else:\n",
    "            b_x = self.bounding_box_prior_x\n",
    "            b_y = self.bounding_box_prior_y\n",
    "            b_w = self.bounding_box_prior_width\n",
    "            b_h = self.bounding_box_prior_height\n",
    "            box_prob = 0\n",
    "            \n",
    "        center_x = b_x + b_w // 2\n",
    "        center_y = b_y + b_h // 2\n",
    "\n",
    "        image_c, image_h, image_w = image.shape\n",
    "        S_w = int(image_w // (S - 1))\n",
    "        S_h = int(image_h // (S - 1))\n",
    "\n",
    "        i = int(center_x // S_w)\n",
    "        j = int(center_y // S_h)\n",
    "\n",
    "        locale = i * (S-1) + j\n",
    "\n",
    "        if i < S and j < S:\n",
    "            t_x = (center_x - S_w * i) / S_w\n",
    "            t_y = (center_y - S_h * j) / S_h\n",
    "            t_w = np.log(b_w / self.bounding_box_prior_width)\n",
    "            t_h = np.log(b_h / self.bounding_box_prior_height)\n",
    "\n",
    "            return locale, torch.tensor((t_x, t_y, t_w, t_h, box_prob))\n",
    "        else:\n",
    "            raise ValueError(\"Invalid i, j: \", (i, j), \"  Expected: \", S)\n",
    "    \n",
    "np.random.seed(20200509)\n",
    "dataset = DatasetV5(ntimes=100)\n",
    "train_dataloader = torch.utils.data.DataLoader(\n",
    "    dataset,\n",
    "    batch_size  = params.batch_size,\n",
    "    num_workers = params.num_workers,\n",
    "    shuffle     = True,\n",
    "    drop_last   = True\n",
    ")"
   ]
  },
  {
   "cell_type": "code",
   "execution_count": 11,
   "metadata": {},
   "outputs": [],
   "source": [
    "test_dataloader = torch.utils.data.DataLoader(\n",
    "    TestDataset(),\n",
    "    batch_size  = params.batch_size,\n",
    "    num_workers = params.num_workers,\n",
    "    shuffle     = False,\n",
    "    drop_last   = True\n",
    ")"
   ]
  },
  {
   "cell_type": "markdown",
   "metadata": {},
   "source": [
    "## Model Definition"
   ]
  },
  {
   "cell_type": "code",
   "execution_count": 12,
   "metadata": {},
   "outputs": [],
   "source": [
    "device = torch.device(\"cuda:\"+params.cuda if params.use_gpu else \"cpu\")\n",
    "\n",
    "def to_device(tensor):\n",
    "    if params.use_gpu:\n",
    "#         torch.nn.DataParallel(model).cuda()\n",
    "#         tensor.cuda()\n",
    "        return tensor.to(device)\n",
    "    else:\n",
    "        return tensor"
   ]
  },
  {
   "cell_type": "code",
   "execution_count": 13,
   "metadata": {},
   "outputs": [],
   "source": [
    "# waldonet = WaldoNet(\".checkpoints/WaldoNet_pretrained.pt\")\n",
    "# waldonet = to_device(waldonet)\n",
    "\n",
    "# for p in waldonet.parameters():\n",
    "#     p.requires_grad = False"
   ]
  },
  {
   "cell_type": "code",
   "execution_count": 14,
   "metadata": {},
   "outputs": [],
   "source": [
    "class ModelV5(torch.nn.Module):\n",
    "    \n",
    "    def __init__(self, load_path=None):\n",
    "        super().__init__()\n",
    "        \n",
    "        self.waldonet = WaldoNet(\".checkpoints/WaldoNet_pretrained.pt\")\n",
    "        \n",
    "        self.locale_block = torch.nn.Sequential(\n",
    "            torch.nn.Linear(500, S*S, bias=False),\n",
    "        )\n",
    "        self.bounds_block = torch.nn.Sequential(\n",
    "            torch.nn.Linear(500, 5, bias=False),\n",
    "        )\n",
    "        \n",
    "        if load_path is not None:\n",
    "            self.load(load_path)\n",
    "        else:\n",
    "            self.reset_parameters()\n",
    "        \n",
    "    def forward(self, x):\n",
    "        x = self.waldonet(x)\n",
    "        \n",
    "        locale_probs = self.locale_block(x)\n",
    "        bounds_probs = self.bounds_block(x)\n",
    "        bounds_probs = torch.sigmoid(bounds_probs)\n",
    "        return locale_probs, bounds_probs\n",
    "    \n",
    "    def __call__(self, x):\n",
    "        return self.forward(x)\n",
    "    \n",
    "    def predict_probs(self, x):\n",
    "        locale_probs, bounds_probs = self.forward(x)\n",
    "        locale_probs = torch.nn.functional.softmax(locale_probs, dim=1)\n",
    "        return locale_probs, bounds_probs\n",
    "    \n",
    "    def num_params(self):\n",
    "        return sum([p.numel() for p in self.parameters() if p.requires_grad])\n",
    "    \n",
    "    def reset_parameters(self):\n",
    "        init_funcs = {\n",
    "            1: lambda x: torch.nn.init.normal_(x, mean=0., std=1.), # biases\n",
    "            2: lambda x: torch.nn.init.xavier_normal_(x, gain=1.), # weights\n",
    "            3: lambda x: torch.nn.init.xavier_uniform_(x, gain=1.), # conv1D filters\n",
    "            4: lambda x: torch.nn.init.xavier_uniform_(x, gain=1.), # conv2D filters\n",
    "            \"default\": lambda x: torch.nn.init.constant(x, 1.),\n",
    "        }\n",
    "        for p in self.parameters():\n",
    "            init_func = init_funcs.get(len(p.shape), init_funcs[\"default\"])\n",
    "            init_func(p)\n",
    "            \n",
    "    def load(self, load_path, strict=False):\n",
    "        self.load_state_dict(torch.load(load_path), strict=strict)\n",
    "            \n",
    "    def save(self, save_path):\n",
    "        torch.save(self.state_dict(), save_path)"
   ]
  },
  {
   "cell_type": "code",
   "execution_count": 15,
   "metadata": {},
   "outputs": [],
   "source": [
    "model = ModelV5()\n",
    "model = to_device(model)"
   ]
  },
  {
   "cell_type": "code",
   "execution_count": 16,
   "metadata": {},
   "outputs": [
    {
     "name": "stdout",
     "output_type": "stream",
     "text": [
      "loading model from ./.checkpoints/latest_modelv5.pt ...\n"
     ]
    }
   ],
   "source": [
    "# load pretrained model if exists\n",
    "if params.pretrained_model_path is not None and os.path.isfile(params.pretrained_model_path):\n",
    "    print('loading model from %s ...' % params.pretrained_model_path)\n",
    "    model.load(params.pretrained_model_path)"
   ]
  },
  {
   "cell_type": "markdown",
   "metadata": {},
   "source": [
    "## Validationtrain_dataloader"
   ]
  },
  {
   "cell_type": "code",
   "execution_count": 22,
   "metadata": {},
   "outputs": [],
   "source": [
    "def extract_prediction_box(images, locale, bounds):\n",
    "    a = locale.argmax()\n",
    "    i = a // (S - 1)\n",
    "    j = a % (S - 1)\n",
    "\n",
    "    n, image_c, image_h, image_w = images.shape\n",
    "    t_x, t_y, t_w, t_h, c = bounds[0]\n",
    "    S_w = int(image_w // (S - 1))\n",
    "    S_h = int(image_h // (S - 1))\n",
    "    b_w = int(dataset.bounding_box_prior_width * np.exp(t_w))\n",
    "    b_h = int(dataset.bounding_box_prior_height * np.exp(t_h))\n",
    "    b_x = int((t_x + i) * S_w - b_w // 2)\n",
    "    b_y = int((t_y + j) * S_h - b_h // 2)\n",
    "    return b_x, b_y, b_w, b_h\n",
    "\n",
    "def validation(model, test_dataloader):\n",
    "    with torch.no_grad():\n",
    "        cumulative_IoU = 0\n",
    "        for i, (images, labels) in enumerate(test_dataloader):\n",
    "            images = to_device(images)\n",
    "            locale_pred, bounds_pred = model.forward(images)\n",
    "            locale_pred = locale_pred.cpu().detach().numpy()\n",
    "            bounds_pred = bounds_pred.cpu().detach().numpy()\n",
    "            \n",
    "            b_x, b_y, b_w, b_h = extract_prediction_box(images, locale_pred, bounds_pred)\n",
    "            \n",
    "            l_x, l_y, l_w, l_h = labels.detach().numpy()[0]\n",
    "            \n",
    "            x1 = max(b_x, l_x)\n",
    "            y1 = max(b_y, l_y)\n",
    "            x2 = min(b_x + b_w, l_x + l_w)\n",
    "            y2 = min(b_y + b_h, l_y + l_h)\n",
    "\n",
    "            intersection = max(x2 - x1, 0) * max(y2 - y1, 0)\n",
    "            cumulative_IoU += intersection / (b_w * b_h + l_w * l_h - intersection)\n",
    "            \n",
    "        return cumulative_IoU / len(test_dataloader)"
   ]
  },
  {
   "cell_type": "markdown",
   "metadata": {},
   "source": [
    "# Model Training"
   ]
  },
  {
   "cell_type": "code",
   "execution_count": 18,
   "metadata": {},
   "outputs": [],
   "source": [
    "optimizer = torch.optim.SGD(model.parameters(), lr=0.001, momentum=0.9, weight_decay=1e-4)\n",
    "optimizer.zero_grad()\n",
    "\n",
    "locale_criterion = torch.nn.CrossEntropyLoss()\n",
    "bounds_criterion = torch.nn.MSELoss()"
   ]
  },
  {
   "cell_type": "code",
   "execution_count": null,
   "metadata": {},
   "outputs": [],
   "source": [
    "best_mean_loss = np.inf\n",
    "best_mIoU = -np.inf\n",
    "\n",
    "with PolyLearningRateDecay(\n",
    "    optimizer,\n",
    "    power=4,\n",
    "    max_decay_steps=20,\n",
    "    final_learning_rate=params.learning_rate\n",
    ") as scheduler:\n",
    "    \n",
    "    for epoch in trange(params.epoch_start, params.num_epochs + 1, leave=False):\n",
    "        \n",
    "        with tqdm(total=len(train_dataloader), position=0, leave=False) as progress, \\\n",
    "            LossAccumulator(optimizer, 1) as lossAccumulator:\n",
    "\n",
    "            progress.set_description('epoch %d, lr %f' % (epoch, scheduler.learning_rate))\n",
    "\n",
    "            cumulative_loss = 0\n",
    "            for i, (images, (locale_label, bounds_label)) in enumerate(train_dataloader):\n",
    "\n",
    "                images = to_device(images)\n",
    "                locale_label = to_device(locale_label)\n",
    "                bounds_label = to_device(bounds_label)\n",
    "\n",
    "                locale_pred, bounds_pred = model.forward(images)\n",
    "                loss = (\n",
    "                    locale_criterion(locale_pred.double(), locale_label.long()) +\n",
    "                    bounds_criterion(bounds_pred.double(), bounds_label.double())\n",
    "                )\n",
    "\n",
    "                cumulative_loss += loss.item()\n",
    "                info = f\"Epoch {epoch}, lr {scheduler.learning_rate}, i {i}, loss {loss.item()}\"\n",
    "                if np.isnan(loss.item()):\n",
    "                    log.warning(info)\n",
    "                    break\n",
    "                else:\n",
    "                    log.info(info)\n",
    "\n",
    "                loss.backward()\n",
    "\n",
    "                progress.set_postfix(loss='%.6f' % loss.item())\n",
    "                progress.update()\n",
    "\n",
    "                next(lossAccumulator)\n",
    "\n",
    "            if epoch % params.checkpoint_step == 0:\n",
    "                model.save(os.path.join(params.save_model_path, 'latest_modelv5.pt'))\n",
    "\n",
    "            mean_loss = cumulative_loss / len(train_dataloader)\n",
    "            log.info(f\"Epoch {epoch}, mean loss {mean_loss}\")\n",
    "\n",
    "            if mean_loss < best_mean_loss:\n",
    "                best_mean_loss = mean_loss\n",
    "                model.save(os.path.join(params.save_model_path, 'min_loss_modelv5.pt'))\n",
    "\n",
    "            if epoch % params.validation_step == 0:\n",
    "                mIoU = validation(model, test_dataloader)\n",
    "                log.info(f\"Epoch {epoch}, mIoU {mIoU}\")\n",
    "                if mIoU > best_mIoU:\n",
    "                    best_mIoU = mIoU\n",
    "                    model.save(os.path.join(params.save_model_path, 'best_modelv5.pt'))\n",
    "                    \n",
    "        next(scheduler)"
   ]
  },
  {
   "cell_type": "code",
   "execution_count": 20,
   "metadata": {},
   "outputs": [],
   "source": [
    "torch.cuda.empty_cache()"
   ]
  },
  {
   "cell_type": "code",
   "execution_count": null,
   "metadata": {},
   "outputs": [],
   "source": [
    "model.save(os.path.join(params.save_model_path, 'latest_modelv5.pt'))"
   ]
  },
  {
   "cell_type": "markdown",
   "metadata": {},
   "source": [
    "## Validation"
   ]
  },
  {
   "cell_type": "code",
   "execution_count": 23,
   "metadata": {},
   "outputs": [
    {
     "name": "stdout",
     "output_type": "stream",
     "text": [
      "mIoU: 0.002454590083456063\n"
     ]
    }
   ],
   "source": [
    "mIoU = validation(model, test_dataloader)\n",
    "print(\"mIoU:\", mIoU)"
   ]
  },
  {
   "cell_type": "markdown",
   "metadata": {},
   "source": [
    "## Logs\n",
    "\n",
    "We'll take a look at the logs to see if the model loss did indeed go down"
   ]
  },
  {
   "cell_type": "code",
   "execution_count": 26,
   "metadata": {},
   "outputs": [],
   "source": [
    "with open(params.log_file.replace(\"5.log\", \"5_OLD.log\")) as file:\n",
    "    model_logs = [line for line in file]"
   ]
  },
  {
   "cell_type": "code",
   "execution_count": 27,
   "metadata": {},
   "outputs": [],
   "source": [
    "mean_loss_re = re.compile(\"Epoch (?P<epoch>[0-9]+), mean loss (?P<loss>[0-9]+.[0-9]+)\")\n",
    "mIoU_re = re.compile(\"Epoch (?P<epoch>[0-9]+), mIoU (?P<mIoU>[0-9]+.[0-9]+)\")"
   ]
  },
  {
   "cell_type": "code",
   "execution_count": 28,
   "metadata": {},
   "outputs": [],
   "source": [
    "mean_losses = []\n",
    "mIoUs = []\n",
    "for line in model_logs:\n",
    "    m = mean_loss_re.search(line)\n",
    "    if m:\n",
    "        mean_losses.append((int(m.group(\"epoch\")), float(m.group(\"loss\"))))\n",
    "        \n",
    "    m = mIoU_re.search(line)\n",
    "    if m:\n",
    "        mIoUs.append((int(m.group(\"epoch\")), float(m.group(\"mIoU\"))))"
   ]
  },
  {
   "cell_type": "code",
   "execution_count": 29,
   "metadata": {},
   "outputs": [
    {
     "data": {
      "image/png": "[encoded data removed]",
      "text/plain": [
       "<Figure size 432x288 with 1 Axes>"
      ]
     },
     "metadata": {
      "needs_background": "light"
     },
     "output_type": "display_data"
    }
   ],
   "source": [
    "pd.DataFrame(mean_losses, columns=[\"Epoch\", \"Mean Loss\"]).set_index(\"Epoch\").plot()\n",
    "plt.show()"
   ]
  },
  {
   "cell_type": "markdown",
   "metadata": {},
   "source": [
    "As can be seen the mean loss has converged, but it is very high."
   ]
  },
  {
   "cell_type": "code",
   "execution_count": 30,
   "metadata": {},
   "outputs": [
    {
     "data": {
      "image/png": "[encoded data removed]",
      "text/plain": [
       "<Figure size 432x288 with 1 Axes>"
      ]
     },
     "metadata": {
      "needs_background": "light"
     },
     "output_type": "display_data"
    }
   ],
   "source": [
    "pd.DataFrame(mIoUs, columns=[\"Epoch\", \"mIoU\"]).set_index(\"Epoch\").plot()\n",
    "plt.show()"
   ]
  }
 ],
 "metadata": {
  "kernelspec": {
   "display_name": "Python 3",
   "language": "python",
   "name": "python3"
  },
  "language_info": {
   "codemirror_mode": {
    "name": "ipython",
    "version": 3
   },
   "file_extension": ".py",
   "mimetype": "text/x-python",
   "name": "python",
   "nbconvert_exporter": "python",
   "pygments_lexer": "ipython3",
   "version": "3.7.1"
  }
 },
 "nbformat": 4,
 "nbformat_minor": 4
}
